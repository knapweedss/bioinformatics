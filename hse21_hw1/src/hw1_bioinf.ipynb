{
 "cells": [
  {
   "cell_type": "code",
   "execution_count": 1,
   "id": "eb62ff80",
   "metadata": {},
   "outputs": [],
   "source": [
    "import re\n",
    "import numpy as np"
   ]
  },
  {
   "cell_type": "markdown",
   "id": "4901e5e8",
   "metadata": {},
   "source": [
    "# Контиги"
   ]
  },
  {
   "cell_type": "code",
   "execution_count": 2,
   "id": "738431ca",
   "metadata": {},
   "outputs": [
    {
     "name": "stdout",
     "output_type": "stream",
     "text": [
      "Кол-во контигов:  613\n",
      "Длина контигов: 3925729\n",
      "Максимальная длина контига: 164432\n"
     ]
    }
   ],
   "source": [
    "with open ('Poil_contig.fa', 'r') as f:\n",
    "    file_lines = f.readlines()\n",
    "    \n",
    "    s = 0 #  количество контигов\n",
    "    l = 0 #  длина контигов\n",
    "    m_list = [] #  нужно для N50\n",
    "    max = 0 #  макс длина контига\n",
    "    for line in file_lines:\n",
    "        if re.search('^>seq', line):\n",
    "            match = re.search('len(.+?)_', line)\n",
    "            l += int(match.group(1))\n",
    "            if int(match.group(1)) > max:\n",
    "                max=int(match.group(1))\n",
    "                \n",
    "            m = re.search('^>seq(.+?)_len[0-9].+', line).group()\n",
    "            maxi = re.search(r'len[0-9]+', m, re.I).group()\n",
    "            maximal = re.search(r'[0-9]+', maxi, re.I).group()\n",
    "            m_list.append(int(maximal))\n",
    "            s+=1\n",
    "        else:\n",
    "            pass\n",
    "        \n",
    "print('Кол-во контигов: ', s)\n",
    "print('Длина контигов:', l)\n",
    "print('Максимальная длина контига:', max)"
   ]
  },
  {
   "cell_type": "markdown",
   "id": "45ddec99",
   "metadata": {},
   "source": [
    "##### N50 определяется как самый короткий контиг при суммировании длин минимального числа контигов для получения суммы, большей или равной половине длины сборки генома"
   ]
  },
  {
   "cell_type": "code",
   "execution_count": 3,
   "id": "d0037236",
   "metadata": {},
   "outputs": [],
   "source": [
    "def calculate_N50(list_of_contig_lengths):\n",
    "    n = []\n",
    "    for n_number in set(list_of_contig_lengths):\n",
    "            n += [n_number] * list_of_contig_lengths.count(n_number) * n_number\n",
    "    n.sort()\n",
    " \n",
    "    if (len(n) % 2) == 0:\n",
    "        n50 = (n[int(len(n) / 2) - 1] + n[int(len(n) / 2)]) / 2\n",
    "    else:\n",
    "        n50 = n[int(len(n) / 2)]\n",
    " \n",
    "    return n50"
   ]
  },
  {
   "cell_type": "code",
   "execution_count": 4,
   "id": "50682287",
   "metadata": {},
   "outputs": [
    {
     "name": "stdout",
     "output_type": "stream",
     "text": [
      "N50 = 53980\n"
     ]
    }
   ],
   "source": [
    "print ('N50 =', calculate_N50(m_list))"
   ]
  },
  {
   "cell_type": "markdown",
   "id": "4fbcb087",
   "metadata": {},
   "source": [
    "# Скаффолды"
   ]
  },
  {
   "cell_type": "code",
   "execution_count": 5,
   "id": "73db76d1",
   "metadata": {},
   "outputs": [
    {
     "name": "stdout",
     "output_type": "stream",
     "text": [
      "Кол-во скаффолдов:  72\n",
      "Длина скаффолдов: 3875668\n",
      "Максимальная длина скаффолда: 3834567\n"
     ]
    }
   ],
   "source": [
    "with open ('Poil_scaffold.fa', 'r') as f:\n",
    "    file_lines = f.readlines()\n",
    "    \n",
    "    s = 0 #  количество скаффолдов\n",
    "    l = 0 # длина скаффолдов\n",
    "    max = 0\n",
    "    mm_list = []\n",
    "    for line in file_lines:\n",
    "        if re.search('^>', line):\n",
    "            #print(line)\n",
    "            s+=1\n",
    "            match=re.search('len(.+?)_', line)\n",
    "            l += int(match.group(1))\n",
    "            if int(match.group(1)) > max:\n",
    "                max=int(match.group(1))\n",
    "                \n",
    "            m = re.search('^>scaffold(.+?)_len[0-9].+', line).group()\n",
    "            maxi = re.search(r'len[0-9]+', m, re.I).group()\n",
    "            maximal = re.search(r'[0-9]+', maxi, re.I).group()\n",
    "            mm_list.append(int(maximal))\n",
    "\n",
    "        else:\n",
    "            pass\n",
    "\n",
    "print('Кол-во скаффолдов: ', s)\n",
    "print('Длина скаффолдов:', l)\n",
    "print('Максимальная длина скаффолда:', max)"
   ]
  },
  {
   "cell_type": "code",
   "execution_count": 6,
   "id": "c4a61083",
   "metadata": {},
   "outputs": [
    {
     "name": "stdout",
     "output_type": "stream",
     "text": [
      "N50 = 3834567.0\n"
     ]
    }
   ],
   "source": [
    "print ('N50 =', calculate_N50(mm_list))"
   ]
  },
  {
   "cell_type": "markdown",
   "id": "6d81bde1",
   "metadata": {},
   "source": [
    "# Скаффолд с наибольшей длиной"
   ]
  },
  {
   "cell_type": "code",
   "execution_count": 7,
   "id": "838db457",
   "metadata": {},
   "outputs": [
    {
     "name": "stdout",
     "output_type": "stream",
     "text": [
      "Количество гэпов:  62\n"
     ]
    }
   ],
   "source": [
    "gap = []\n",
    "with open ('BiggestScaff.fna', 'r') as f:\n",
    "    file = f.read()\n",
    "    gap = re.findall(\"N+\", file)\n",
    "    gaps_num = len(gap)\n",
    "print('Количество гэпов: ', gaps_num)"
   ]
  },
  {
   "cell_type": "code",
   "execution_count": 8,
   "id": "9d5dd1a6",
   "metadata": {},
   "outputs": [
    {
     "name": "stdout",
     "output_type": "stream",
     "text": [
      "Общая длина всех гэпов: 6344\n"
     ]
    }
   ],
   "source": [
    "print('Общая длина всех гэпов:', len(','.join(gap).replace(',','')))"
   ]
  },
  {
   "cell_type": "markdown",
   "id": "8a4337f8",
   "metadata": {},
   "source": [
    "# platanus gap_close"
   ]
  },
  {
   "cell_type": "code",
   "execution_count": 9,
   "id": "8820b917",
   "metadata": {},
   "outputs": [
    {
     "name": "stdout",
     "output_type": "stream",
     "text": [
      "Количество гэпов:  9\n"
     ]
    }
   ],
   "source": [
    "gap = []\n",
    "with open ('longest.fna', 'r') as f:\n",
    "    file = f.read()\n",
    "    gap = re.findall(\"N+\", file)\n",
    "    gaps_num = len(gap)\n",
    "print('Количество гэпов: ', gaps_num)"
   ]
  },
  {
   "cell_type": "code",
   "execution_count": 10,
   "id": "b1db2b2f",
   "metadata": {},
   "outputs": [
    {
     "name": "stdout",
     "output_type": "stream",
     "text": [
      "Общая длина всех гэпов: 1905\n"
     ]
    }
   ],
   "source": [
    "print('Общая длина всех гэпов:', len(','.join(gap).replace(',','')))"
   ]
  }
 ],
 "metadata": {
  "kernelspec": {
   "display_name": "Python 3 (ipykernel)",
   "language": "python",
   "name": "python3"
  },
  "language_info": {
   "codemirror_mode": {
    "name": "ipython",
    "version": 3
   },
   "file_extension": ".py",
   "mimetype": "text/x-python",
   "name": "python",
   "nbconvert_exporter": "python",
   "pygments_lexer": "ipython3",
   "version": "3.7.1"
  }
 },
 "nbformat": 4,
 "nbformat_minor": 5
}
