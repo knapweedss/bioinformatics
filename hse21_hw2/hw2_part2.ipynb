{
  "nbformat": 4,
  "nbformat_minor": 0,
  "metadata": {
    "colab": {
      "provenance": []
    },
    "kernelspec": {
      "name": "python3",
      "display_name": "Python 3"
    },
    "language_info": {
      "name": "python"
    }
  },
  "cells": [
    {
      "cell_type": "markdown",
      "source": [
        "# Скачаем данные и установим необходимые программы"
      ],
      "metadata": {
        "id": "PHEKMiTNRR2l"
      }
    },
    {
      "cell_type": "code",
      "source": [
        "!wget https://raw.githubusercontent.com/knapweedss/hse21_hw2/main/data/gms2.lst\n",
        "!wget https://raw.githubusercontent.com/knapweedss/hse21_hw2/main/data/scaffolds.fa\n",
        "!wget https://raw.githubusercontent.com/knapweedss/hse21_hw2/main/data/proteins.fasta\n",
        "!wget https://raw.githubusercontent.com/knapweedss/hse21_hw2/main/data/scaffolds.hits_from_MIL_1.txt\n",
        "!wget https://raw.githubusercontent.com/knapweedss/hse21_hw2/main/data/scaffolds.hits_from_SwissProt.txt"
      ],
      "metadata": {
        "colab": {
          "base_uri": "https://localhost:8080/"
        },
        "id": "DWbzQ-S4RWk3",
        "outputId": "abff3570-135f-4ec5-eab1-fc1b2d5625ed"
      },
      "execution_count": null,
      "outputs": [
        {
          "output_type": "stream",
          "name": "stdout",
          "text": [
            "--2021-12-19 20:23:46--  https://raw.githubusercontent.com/knapweedss/hse21_hw2/main/data/gms2.lst\n",
            "Resolving raw.githubusercontent.com (raw.githubusercontent.com)... 185.199.111.133, 185.199.109.133, 185.199.110.133, ...\n",
            "Connecting to raw.githubusercontent.com (raw.githubusercontent.com)|185.199.111.133|:443... connected.\n",
            "HTTP request sent, awaiting response... 200 OK\n",
            "Length: 221547 (216K) [text/plain]\n",
            "Saving to: ‘gms2.lst.1’\n",
            "\n",
            "gms2.lst.1          100%[===================>] 216.35K  --.-KB/s    in 0.02s   \n",
            "\n",
            "2021-12-19 20:23:46 (8.51 MB/s) - ‘gms2.lst.1’ saved [221547/221547]\n",
            "\n",
            "--2021-12-19 20:23:47--  https://raw.githubusercontent.com/knapweedss/hse21_hw2/main/data/scaffolds.fa\n",
            "Resolving raw.githubusercontent.com (raw.githubusercontent.com)... 185.199.108.133, 185.199.109.133, 185.199.110.133, ...\n",
            "Connecting to raw.githubusercontent.com (raw.githubusercontent.com)|185.199.108.133|:443... connected.\n",
            "HTTP request sent, awaiting response... 200 OK\n",
            "Length: 3967630 (3.8M) [text/plain]\n",
            "Saving to: ‘scaffolds.fa.1’\n",
            "\n",
            "scaffolds.fa.1      100%[===================>]   3.78M  --.-KB/s    in 0.09s   \n",
            "\n",
            "2021-12-19 20:23:47 (44.5 MB/s) - ‘scaffolds.fa.1’ saved [3967630/3967630]\n",
            "\n",
            "--2021-12-19 20:23:47--  https://raw.githubusercontent.com/knapweedss/hse21_hw2/main/data/proteins.fasta\n",
            "Resolving raw.githubusercontent.com (raw.githubusercontent.com)... 185.199.108.133, 185.199.109.133, 185.199.110.133, ...\n",
            "Connecting to raw.githubusercontent.com (raw.githubusercontent.com)|185.199.108.133|:443... connected.\n",
            "HTTP request sent, awaiting response... 200 OK\n",
            "Length: 1404504 (1.3M) [text/plain]\n",
            "Saving to: ‘proteins.fasta.1’\n",
            "\n",
            "proteins.fasta.1    100%[===================>]   1.34M  --.-KB/s    in 0.06s   \n",
            "\n",
            "2021-12-19 20:23:47 (24.0 MB/s) - ‘proteins.fasta.1’ saved [1404504/1404504]\n",
            "\n",
            "--2021-12-19 20:23:47--  https://raw.githubusercontent.com/knapweedss/hse21_hw2/main/data/scaffolds.hits_from_MIL_1.txt\n",
            "Resolving raw.githubusercontent.com (raw.githubusercontent.com)... 185.199.108.133, 185.199.109.133, 185.199.110.133, ...\n",
            "Connecting to raw.githubusercontent.com (raw.githubusercontent.com)|185.199.108.133|:443... connected.\n",
            "HTTP request sent, awaiting response... 200 OK\n",
            "Length: 872717 (852K) [text/plain]\n",
            "Saving to: ‘scaffolds.hits_from_MIL_1.txt.1’\n",
            "\n",
            "scaffolds.hits_from 100%[===================>] 852.26K  --.-KB/s    in 0.05s   \n",
            "\n",
            "2021-12-19 20:23:48 (17.8 MB/s) - ‘scaffolds.hits_from_MIL_1.txt.1’ saved [872717/872717]\n",
            "\n",
            "--2021-12-19 20:23:48--  https://raw.githubusercontent.com/knapweedss/hse21_hw2/main/data/scaffolds.hits_from_SwissProt.txt\n",
            "Resolving raw.githubusercontent.com (raw.githubusercontent.com)... 185.199.108.133, 185.199.109.133, 185.199.110.133, ...\n",
            "Connecting to raw.githubusercontent.com (raw.githubusercontent.com)|185.199.108.133|:443... connected.\n",
            "HTTP request sent, awaiting response... 200 OK\n",
            "Length: 65267 (64K) [text/plain]\n",
            "Saving to: ‘scaffolds.hits_from_SwissProt.txt.1’\n",
            "\n",
            "scaffolds.hits_from 100%[===================>]  63.74K  --.-KB/s    in 0.01s   \n",
            "\n",
            "2021-12-19 20:23:48 (5.18 MB/s) - ‘scaffolds.hits_from_SwissProt.txt.1’ saved [65267/65267]\n",
            "\n"
          ]
        }
      ]
    },
    {
      "cell_type": "markdown",
      "source": [
        "## Скачиваем геном близкородственной бактерии T.oleivorans"
      ],
      "metadata": {
        "id": "f4LMJAKYc4QJ"
      }
    },
    {
      "cell_type": "code",
      "source": [
        "!sh -c \"$(curl -fsSL ftp://ftp.ncbi.nlm.nih.gov/entrez/entrezdirect/install-edirect.sh)\""
      ],
      "metadata": {
        "colab": {
          "base_uri": "https://localhost:8080/"
        },
        "id": "iVFq6jqgczeB",
        "outputId": "7f10538d-cabe-43eb-f83d-87bf9e36529c"
      },
      "execution_count": null,
      "outputs": [
        {
          "output_type": "stream",
          "name": "stdout",
          "text": [
            "\n",
            "Entrez Direct has been successfully downloaded and installed.\n",
            "\n",
            "\n",
            "To activate EDirect for this terminal session, please execute the following:\n",
            "\n",
            "export PATH=${PATH}:${HOME}/edirect\n",
            "\n"
          ]
        }
      ]
    },
    {
      "cell_type": "code",
      "source": [
        "!$HOME/edirect/efetch -db nuccore -id HF680312 -format gb  >  T_oleivorans_MIL_1.gbk"
      ],
      "metadata": {
        "id": "LHHMKOtCc7xm"
      },
      "execution_count": null,
      "outputs": []
    },
    {
      "cell_type": "markdown",
      "source": [
        "- Устанавливаем биопитон"
      ],
      "metadata": {
        "id": "7bW1S9mmc9do"
      }
    },
    {
      "cell_type": "code",
      "source": [
        "!pip install biopython"
      ],
      "metadata": {
        "colab": {
          "base_uri": "https://localhost:8080/"
        },
        "id": "0U-ITtqXdCZ9",
        "outputId": "e8cdef16-ff76-4c12-c8d9-e0c7ab1869fa"
      },
      "execution_count": null,
      "outputs": [
        {
          "output_type": "stream",
          "name": "stdout",
          "text": [
            "Collecting biopython\n",
            "  Downloading biopython-1.79-cp37-cp37m-manylinux_2_5_x86_64.manylinux1_x86_64.whl (2.3 MB)\n",
            "\u001b[K     |████████████████████████████████| 2.3 MB 5.1 MB/s \n",
            "\u001b[?25hRequirement already satisfied: numpy in /usr/local/lib/python3.7/dist-packages (from biopython) (1.19.5)\n",
            "Installing collected packages: biopython\n",
            "Successfully installed biopython-1.79\n"
          ]
        }
      ]
    },
    {
      "cell_type": "code",
      "source": [
        "!head -n 20 gms2.lst"
      ],
      "metadata": {
        "colab": {
          "base_uri": "https://localhost:8080/"
        },
        "id": "w9JNGewleEWl",
        "outputId": "69a1bfb9-9b44-4ee5-8157-e3f1b221ba6f"
      },
      "execution_count": null,
      "outputs": [
        {
          "output_type": "stream",
          "name": "stdout",
          "text": [
            "# GeneMark.hmm-2 LST format\n",
            "# GeneMark.hmm-2 prokaryotic version: 1.25_lic\n",
            "# File with sequence: scaffolds.fasta\n",
            "# File with native parameters: GMS2.mod\n",
            "# Native species name and build: unspecified GeneMarkS-2-1.14_1.25_lic\n",
            "# File with MetaGeneMark parameters: /content/gms2_linux_64/mgm_11.mod\n",
            "# translation table: 11\n",
            "# output date start: Sun Dec 19 00:58:14 2021\n",
            "\n",
            "# sequence-region 1 3875869\n",
            "SequenceID: scaffold1_cov231\n",
            "     1   -   <3    299     297 native GAGGTG 4 1\n",
            "     2   -    372    815     444 atypical AGCGAG 6 1\n",
            "     3   -    840    1361     522 atypical CAGGAA 7 1\n",
            "     4   -    1799    2626     828 atypical CAGGAT 10 1\n",
            "     5   +    2972    3094     123 native TTGGAG 7 1\n",
            "     6   -    3269    4003     735 native CAGGTC 8 1\n",
            "     7   -    4341    5516    1176 native TAGGAG 9 1\n",
            "     8   -    5541    7688    2148 native GTGGAG 8 1\n",
            "     9   +    8057    8851     795 native AAGTAG 6 1\n"
          ]
        }
      ]
    },
    {
      "cell_type": "markdown",
      "source": [
        "- найдем длину самого длинного скаффолда (по предыдущему дз cov231)"
      ],
      "metadata": {
        "id": "jFHdgBUulNuy"
      }
    },
    {
      "cell_type": "markdown",
      "source": [
        "# SeqIO"
      ],
      "metadata": {
        "id": "eB1H12VzTFAA"
      }
    },
    {
      "cell_type": "code",
      "source": [
        "# для удобства из библиотеки\n",
        "#record = SeqIO.read(\"Fasta/f001\", \"fasta\")\n",
        "#record = next(SeqIO.parse(\"Fasta/f002\", \"fasta\"))\n",
        "#for record in SeqIO.parse(\"Fasta/f002\", \"fasta\")\n",
        "#record_dict = SeqIO.to_dict(SeqIO.parse(\"Fasta/f002\", \"fasta\"))\n",
        "#SeqIO.write(records, \"example.faa\", \"fasta\"\n",
        "#from Bio.SeqFeature import SeqFeature, FeatureLocation\n",
        "#f1 = SeqFeature(FeatureLocation(5, 10), type=\"domain\")\n",
        "#f1.strand == f1.location.strand == None\n",
        "#True"
      ],
      "metadata": {
        "id": "TVVwlh1jTGtj"
      },
      "execution_count": null,
      "outputs": []
    },
    {
      "cell_type": "code",
      "source": [
        "from Bio import SeqIO\n",
        "\n",
        "records = []\n",
        "num = []\n",
        "\n",
        "for j in SeqIO.parse(\"/content/scaffolds.fa\", \"fasta\"):\n",
        "  records.append(j)\n",
        "  num.append(j.id[j.id.find('cov')+3:])\n",
        "  if j.id == 'scaffold1_cov231':   \n",
        "    record_longest = j"
      ],
      "metadata": {
        "id": "sEt0VpbZk5rJ"
      },
      "execution_count": null,
      "outputs": []
    },
    {
      "cell_type": "code",
      "source": [
        "print(len(records)) # количество скаффолдов"
      ],
      "metadata": {
        "colab": {
          "base_uri": "https://localhost:8080/"
        },
        "id": "f-dePMNBmgrq",
        "outputId": "7462b48b-e5a0-43f7-e27a-0166df397c05"
      },
      "execution_count": null,
      "outputs": [
        {
          "output_type": "stream",
          "name": "stdout",
          "text": [
            "72\n"
          ]
        }
      ]
    },
    {
      "cell_type": "code",
      "source": [
        "print(len(record_longest)) # длина самого длинного скаффолда"
      ],
      "metadata": {
        "colab": {
          "base_uri": "https://localhost:8080/"
        },
        "id": "1qW81hpMmrdr",
        "outputId": "a314b004-344f-4945-e123-59515117a4d4"
      },
      "execution_count": null,
      "outputs": [
        {
          "output_type": "stream",
          "name": "stdout",
          "text": [
            "3875869\n"
          ]
        }
      ]
    },
    {
      "cell_type": "markdown",
      "source": [
        "# Аннотация генома"
      ],
      "metadata": {
        "id": "zhZHFRC4MX9e"
      }
    },
    {
      "cell_type": "markdown",
      "source": [
        "- импортируем необходимые модули"
      ],
      "metadata": {
        "id": "33iDBP-yPPiG"
      }
    },
    {
      "cell_type": "code",
      "source": [
        "from Bio.SeqFeature import SeqFeature, FeatureLocation\n",
        "from datetime import datetime as dt\n",
        "import pandas as pd"
      ],
      "metadata": {
        "id": "YSKEaJTRMy-D"
      },
      "execution_count": null,
      "outputs": []
    },
    {
      "cell_type": "markdown",
      "source": [
        "- создаем словарь "
      ],
      "metadata": {
        "id": "nZEyx7XQMatT"
      }
    },
    {
      "cell_type": "code",
      "source": [
        "scaffolds = dict()\n",
        "for record in SeqIO.parse(\"scaffolds.fa\", \"fasta\"):\n",
        "  record.annotations['molecule_type'] = 'DNA'\n",
        "  record.annotations['organism'] = 'Thalassolituus oleivorans Barents'\n",
        "  record.annotations['source'] = 'Thalassolituus oleivorans Barents'\n",
        "  record.annotations['date'] = dt.now().strftime(\"%d-%b-%Y\").upper()\n",
        "  record.annotations['data_file_division'] = 'BCT'\n",
        "  \n",
        "  scaffolds[record.id] = record"
      ],
      "metadata": {
        "id": "ufDhiRNGK7wK"
      },
      "execution_count": null,
      "outputs": []
    },
    {
      "cell_type": "code",
      "source": [
        "genes = dict()\n",
        "for gene in SeqIO.parse(\"proteins.fasta\", \"fasta\"):\n",
        "  desc = gene.description.split(' ')\n",
        "  scaffold = desc[1]\n",
        "  start, end = int(desc[2]), int(desc[3])\n",
        "  strand = 1 if desc[4] == '+' else -1\n",
        "  \n",
        "  feat = SeqFeature(FeatureLocation(start, end, strand=strand), type=\"CDS\")\n",
        "  feat.qualifiers['locus_tag'] = [desc[0]]\n",
        "  feat.qualifiers['translation'] = [gene.seq]\n",
        "  scaffolds[scaffold].features.append(feat)\n",
        "  \n",
        "  genes[desc[0]] = feat"
      ],
      "metadata": {
        "id": "RMy6NDZ1LD-R"
      },
      "execution_count": null,
      "outputs": []
    },
    {
      "cell_type": "markdown",
      "source": [
        "- добавляем функции белков"
      ],
      "metadata": {
        "id": "5jHz03jyM8zY"
      }
    },
    {
      "cell_type": "code",
      "source": [
        "mil = dict()\n",
        "for feat in SeqIO.read(\"T_oleivorans_MIL_1.gbk\", \"genbank\").features:\n",
        "  if 'protein_id' not in feat.qualifiers:\n",
        "    continue\n",
        "  if 'product' not in feat.qualifiers:\n",
        "    continue\n",
        "  \n",
        "  mil[feat.qualifiers['protein_id'][0]] = feat.qualifiers['product'][0]"
      ],
      "metadata": {
        "id": "fBtfoBhKLGg-"
      },
      "execution_count": null,
      "outputs": []
    },
    {
      "cell_type": "code",
      "source": [
        "names = ['qseqid', 'sseqid', 'pident', 'length', 'mismatch', 'gapopen', 'qstart', 'qend', 'sstart', 'send', 'evalue', 'bitscore']\n",
        "mmatch = pd.read_csv('scaffolds.hits_from_MIL_1.txt', sep='\\t', header=None, names=names)\n",
        "match = mmatch[mmatch['sseqid'].str.contains(\"CCU\")].sort_values('bitscore', ascending=False).drop_duplicates('qseqid')\n",
        "#print(mmatch)"
      ],
      "metadata": {
        "id": "6b9lrcJGLJsr"
      },
      "execution_count": null,
      "outputs": []
    },
    {
      "cell_type": "code",
      "source": [
        "#print(match)"
      ],
      "metadata": {
        "id": "RAKFwg3lLNHc"
      },
      "execution_count": null,
      "outputs": []
    },
    {
      "cell_type": "code",
      "source": [
        "!wget -nc https://ftp.uniprot.org/pub/databases/uniprot/current_release/knowledgebase/complete/uniprot_sprot.dat.gz\n",
        "!gzip -d uniprot_sprot.dat.gz"
      ],
      "metadata": {
        "colab": {
          "base_uri": "https://localhost:8080/"
        },
        "id": "3G_thXWHUO9g",
        "outputId": "9bca3f58-81c0-4b14-fca7-68d0900fcefa"
      },
      "execution_count": null,
      "outputs": [
        {
          "output_type": "stream",
          "name": "stdout",
          "text": [
            "File ‘uniprot_sprot.dat.gz’ already there; not retrieving.\n",
            "\n",
            "gzip: uniprot_sprot.dat already exists; do you wish to overwrite (y or n)? т\n",
            "\tnot overwritten\n"
          ]
        }
      ]
    },
    {
      "cell_type": "code",
      "source": [
        "for i, hit in match.iterrows():\n",
        "  gene = genes[str(hit['qseqid'])]\n",
        "  m = hit['sseqid'].split('_')[2]\n",
        "  gene.qualifiers['product'] = [mil[m]]"
      ],
      "metadata": {
        "id": "1MdY9uvvLQao"
      },
      "execution_count": null,
      "outputs": []
    },
    {
      "cell_type": "markdown",
      "source": [
        "- SwissProt"
      ],
      "metadata": {
        "id": "2uItGIONUVh1"
      }
    },
    {
      "cell_type": "code",
      "source": [
        "# чтобы не обрабатывать большой файл легче достать новое и перезаписать\n",
        "!grep '^ID\\|^DE   RecName: Full=' uniprot_sprot.dat > SP.txt "
      ],
      "metadata": {
        "id": "yECSKCF_LXrQ"
      },
      "execution_count": null,
      "outputs": []
    },
    {
      "cell_type": "code",
      "source": [
        "previd = None\n",
        "swissgenes = dict()\n",
        "for line in open('SP.txt'):\n",
        "  if line.startswith('ID'):\n",
        "    previd = line.split()[1]\n",
        "  if line.startswith('DE'):\n",
        "    swissgenes[previd] = line.split('=')[1][:-2]"
      ],
      "metadata": {
        "id": "Ddx9M-HCLepN"
      },
      "execution_count": null,
      "outputs": []
    },
    {
      "cell_type": "code",
      "source": [
        "swisshits_raw = pd.read_csv('scaffolds.hits_from_SwissProt.txt', sep='\\t', header=None, names=names)\n",
        "swisshits = swisshits_raw.sort_values('bitscore', ascending=False).drop_duplicates('qseqid')\n",
        "\n",
        "for i, hit in swisshits.iterrows():\n",
        "  gene = genes[str(hit['qseqid'])]\n",
        "  match = hit['sseqid'].split('|')[-1]\n",
        "  gene.qualifiers['product'] = [swissgenes[match]]"
      ],
      "metadata": {
        "id": "3pGZkeiILjB8"
      },
      "execution_count": null,
      "outputs": []
    },
    {
      "cell_type": "markdown",
      "source": [
        "- запись в GENOME.gkb"
      ],
      "metadata": {
        "id": "0rz7L6YzUhuf"
      }
    },
    {
      "cell_type": "code",
      "source": [
        "SeqIO.write(scaffolds.values(), \"GENOME.gbk\", \"genbank\")"
      ],
      "metadata": {
        "colab": {
          "base_uri": "https://localhost:8080/"
        },
        "id": "_DdZUZ9HIg6m",
        "outputId": "c3979672-4886-4a32-9bf5-99b7555b9a1e"
      },
      "execution_count": null,
      "outputs": [
        {
          "output_type": "execute_result",
          "data": {
            "text/plain": [
              "72"
            ]
          },
          "metadata": {},
          "execution_count": 182
        }
      ]
    }
  ]
}